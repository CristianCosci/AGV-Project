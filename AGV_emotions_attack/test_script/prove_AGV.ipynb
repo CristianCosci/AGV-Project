{
  "nbformat": 4,
  "nbformat_minor": 0,
  "metadata": {
    "colab": {
      "name": "prove_AGV.ipynb",
      "provenance": [],
      "collapsed_sections": [],
      "authorship_tag": "ABX9TyOCqSXQZEB1skRIWEiryzrX",
      "include_colab_link": true
    },
    "kernelspec": {
      "name": "python3",
      "display_name": "Python 3"
    },
    "language_info": {
      "name": "python"
    },
    "gpuClass": "standard"
  },
  "cells": [
    {
      "cell_type": "markdown",
      "metadata": {
        "id": "view-in-github",
        "colab_type": "text"
      },
      "source": [
        "<a href=\"https://colab.research.google.com/github/CristianCosci/AGV-Project/blob/refactoring_mobilenet/AGV_emotions_attack/test_script/prove_AGV.ipynb\" target=\"_parent\"><img src=\"https://colab.research.google.com/assets/colab-badge.svg\" alt=\"Open In Colab\"/></a>"
      ]
    },
    {
      "cell_type": "code",
      "execution_count": null,
      "metadata": {
        "id": "rvmZCV1-zf4_"
      },
      "outputs": [],
      "source": [
        "!git clone -b refactoring_mobilenet https://github.com/CristianCosci/AGV-Project.git"
      ]
    },
    {
      "cell_type": "code",
      "source": [
        "!pip install noise"
      ],
      "metadata": {
        "id": "TK_N6C3H9cdB"
      },
      "execution_count": null,
      "outputs": []
    },
    {
      "cell_type": "code",
      "source": [
        "import sys, os\n",
        "os.chdir('/content/AGV-Project/AGV_emotions_attack/attacks_emotions/agv/')\n",
        "\n",
        "import random\n",
        "import argparse\n",
        "#set modules path\n",
        "sys.path.append(os.path.dirname('attack.py'))\n",
        "sys.path.append(os.path.join(os.path.dirname('attack.py'),'..'))\n",
        "sys.path.append(os.path.join(os.path.dirname('attack.py'),'..', \"..\"))\n",
        "import numpy as np\n",
        "import pandas as pd\n",
        "\n",
        "from fitness import inv_attack_rate, inv_attack_rate_multiple\n",
        "from agv_filters import Filters\n",
        "from agv_model_loader import ModelLoader\n",
        "from agv_optimizer import AGVOptimizer\n",
        "from agv_optimizer import Individual\n",
        "from agv_datasets import build_model_and_dataset\n",
        "from agv_datasets import get_model_name_from_dataset\n",
        "from agv_datasets import database_and_model\n",
        "from agv_distances import get_distance_functions\n",
        "from agv_metrics import compute_metricts\n",
        "\n",
        "from agv_tests import test, test_fits, save_adv_ex  \n",
        "from agv_tests import mkdir_p, save_adv_best\n",
        "from log import Log\n",
        "\n",
        "from tensorflow.keras.preprocessing import image\n",
        "from tensorflow.keras.applications import imagenet_utils\n",
        "\n",
        "model, _, _ = build_model_and_dataset('IMAGENET-MOBILENET')"
      ],
      "metadata": {
        "id": "Cee64okVrMTU"
      },
      "execution_count": null,
      "outputs": []
    },
    {
      "cell_type": "code",
      "source": [
        "os.chdir('/content/AGV-Project/AGV_emotions_attack/')\n",
        "file_list = os.listdir('attacks_emotions/datasets/images_dataset/ILSVRC2012_img_val_labeled_caffe_200')\n",
        "origin_class = []\n",
        "for name in file_list:\n",
        "  splitted_name = name.split('.')\n",
        "  origin_class.append(splitted_name[0])\n",
        "\n",
        "origin_class = [int(i) for i in origin_class]\n",
        "print(origin_class)\n",
        "\n",
        "img_path = 'attacks_emotions/datasets/images_dataset/ILSVRC2012_img_val_labeled_caffe_200/'\n",
        "images = []\n",
        "for file in file_list:\n",
        "  img = image.load_img(img_path + file, target_size=(224, 224))\n",
        "  img_array = image.img_to_array(img)/255\n",
        "  img_array_expanded_dims = np.expand_dims(img_array, axis=0)\n",
        "  images.append(img_array_expanded_dims)\n",
        "\n",
        "images = np.vstack(images)"
      ],
      "metadata": {
        "id": "9nTGwG-4b-W-"
      },
      "execution_count": null,
      "outputs": []
    },
    {
      "cell_type": "code",
      "source": [
        "predictions = model.predict(images, batch_size=10)\n",
        "result = imagenet_utils.decode_predictions(predictions)\n",
        "pred_class = [np.argmax(x) for x in predictions]"
      ],
      "metadata": {
        "id": "4ah4vpIBePwH"
      },
      "execution_count": 10,
      "outputs": []
    },
    {
      "cell_type": "code",
      "source": [
        "# count = 0\n",
        "for i in range(200):\n",
        "  if pred_class[i] != origin_class[i]:\n",
        "    print('ELEMENTO: {}, classe originale: {} --- classe predetta: {}'.format(i, origin_class[i], pred_class[i]))"
      ],
      "metadata": {
        "colab": {
          "base_uri": "https://localhost:8080/"
        },
        "id": "FcYUqDmMw63r",
        "outputId": "f4c5b16d-ed55-4132-96d9-7e97f9344b65"
      },
      "execution_count": 24,
      "outputs": [
        {
          "output_type": "stream",
          "name": "stdout",
          "text": [
            "ELEMENTO: 1, classe originale: 493 --- classe predetta: 894\n",
            "ELEMENTO: 6, classe originale: 198 --- classe predetta: 196\n",
            "ELEMENTO: 7, classe originale: 343 --- classe predetta: 360\n",
            "ELEMENTO: 9, classe originale: 516 --- classe predetta: 431\n",
            "ELEMENTO: 12, classe originale: 620 --- classe predetta: 681\n",
            "ELEMENTO: 15, classe originale: 841 --- classe predetta: 903\n",
            "ELEMENTO: 18, classe originale: 479 --- classe predetta: 436\n",
            "ELEMENTO: 19, classe originale: 57 --- classe predetta: 65\n",
            "ELEMENTO: 21, classe originale: 486 --- classe predetta: 889\n",
            "ELEMENTO: 30, classe originale: 703 --- classe predetta: 637\n",
            "ELEMENTO: 33, classe originale: 725 --- classe predetta: 505\n",
            "ELEMENTO: 36, classe originale: 970 --- classe predetta: 795\n",
            "ELEMENTO: 42, classe originale: 230 --- classe predetta: 231\n",
            "ELEMENTO: 43, classe originale: 975 --- classe predetta: 977\n",
            "ELEMENTO: 45, classe originale: 878 --- classe predetta: 810\n",
            "ELEMENTO: 47, classe originale: 28 --- classe predetta: 119\n",
            "ELEMENTO: 50, classe originale: 937 --- classe predetta: 938\n",
            "ELEMENTO: 52, classe originale: 361 --- classe predetta: 731\n",
            "ELEMENTO: 53, classe originale: 108 --- classe predetta: 29\n",
            "ELEMENTO: 54, classe originale: 780 --- classe predetta: 484\n",
            "ELEMENTO: 55, classe originale: 115 --- classe predetta: 110\n",
            "ELEMENTO: 64, classe originale: 272 --- classe predetta: 274\n",
            "ELEMENTO: 70, classe originale: 392 --- classe predetta: 115\n",
            "ELEMENTO: 74, classe originale: 664 --- classe predetta: 480\n",
            "ELEMENTO: 76, classe originale: 875 --- classe predetta: 966\n",
            "ELEMENTO: 78, classe originale: 230 --- classe predetta: 231\n",
            "ELEMENTO: 79, classe originale: 383 --- classe predetta: 370\n",
            "ELEMENTO: 83, classe originale: 474 --- classe predetta: 735\n",
            "ELEMENTO: 89, classe originale: 394 --- classe predetta: 389\n",
            "ELEMENTO: 93, classe originale: 777 --- classe predetta: 597\n",
            "ELEMENTO: 95, classe originale: 467 --- classe predetta: 391\n",
            "ELEMENTO: 98, classe originale: 717 --- classe predetta: 468\n",
            "ELEMENTO: 101, classe originale: 150 --- classe predetta: 360\n",
            "ELEMENTO: 105, classe originale: 369 --- classe predetta: 379\n",
            "ELEMENTO: 111, classe originale: 259 --- classe predetta: 154\n",
            "ELEMENTO: 112, classe originale: 415 --- classe predetta: 430\n",
            "ELEMENTO: 117, classe originale: 167 --- classe predetta: 166\n",
            "ELEMENTO: 119, classe originale: 558 --- classe predetta: 212\n",
            "ELEMENTO: 120, classe originale: 196 --- classe predetta: 192\n",
            "ELEMENTO: 121, classe originale: 516 --- classe predetta: 431\n",
            "ELEMENTO: 125, classe originale: 436 --- classe predetta: 803\n",
            "ELEMENTO: 132, classe originale: 32 --- classe predetta: 310\n",
            "ELEMENTO: 137, classe originale: 58 --- classe predetta: 77\n",
            "ELEMENTO: 143, classe originale: 22 --- classe predetta: 23\n",
            "ELEMENTO: 144, classe originale: 167 --- classe predetta: 247\n",
            "ELEMENTO: 145, classe originale: 332 --- classe predetta: 283\n",
            "ELEMENTO: 148, classe originale: 666 --- classe predetta: 968\n",
            "ELEMENTO: 149, classe originale: 638 --- classe predetta: 639\n",
            "ELEMENTO: 156, classe originale: 74 --- classe predetta: 78\n",
            "ELEMENTO: 157, classe originale: 183 --- classe predetta: 221\n",
            "ELEMENTO: 160, classe originale: 686 --- classe predetta: 447\n",
            "ELEMENTO: 163, classe originale: 265 --- classe predetta: 266\n",
            "ELEMENTO: 166, classe originale: 969 --- classe predetta: 967\n",
            "ELEMENTO: 169, classe originale: 646 --- classe predetta: 798\n",
            "ELEMENTO: 170, classe originale: 718 --- classe predetta: 698\n",
            "ELEMENTO: 175, classe originale: 173 --- classe predetta: 179\n",
            "ELEMENTO: 176, classe originale: 213 --- classe predetta: 234\n",
            "ELEMENTO: 181, classe originale: 311 --- classe predetta: 312\n",
            "ELEMENTO: 182, classe originale: 23 --- classe predetta: 21\n",
            "ELEMENTO: 192, classe originale: 528 --- classe predetta: 709\n",
            "ELEMENTO: 198, classe originale: 46 --- classe predetta: 29\n"
          ]
        }
      ]
    },
    {
      "cell_type": "code",
      "source": [
        "from IPython.display import Image\n",
        "os.chdir('/content/AGV-Project/AGV_emotions_attack/')\n",
        "Image(filename=img_path+'65.1.JPEG')"
      ],
      "metadata": {
        "id": "O9cbG_ftmays"
      },
      "execution_count": null,
      "outputs": []
    },
    {
      "cell_type": "code",
      "source": [
        "img = image.load_img(img_path + '65.1.JPEG', target_size=(224, 224))\n",
        "img_array = image.img_to_array(img)/255\n",
        "img_array_expanded_dims = np.expand_dims(img_array, axis=0)\n",
        "predictions = model.predict(img_array_expanded_dims)\n",
        "result = imagenet_utils.decode_predictions(predictions)\n",
        "print(np.argmax((predictions)))"
      ],
      "metadata": {
        "colab": {
          "base_uri": "https://localhost:8080/"
        },
        "id": "ghW5J4q3dnAf",
        "outputId": "8403fbac-434e-4796-a078-d41b7176d25f"
      },
      "execution_count": 48,
      "outputs": [
        {
          "output_type": "stream",
          "name": "stdout",
          "text": [
            "65\n"
          ]
        }
      ]
    },
    {
      "cell_type": "code",
      "source": [
        ""
      ],
      "metadata": {
        "id": "DGsn6CFzm4Wl"
      },
      "execution_count": null,
      "outputs": []
    },
    {
      "cell_type": "code",
      "source": [
        ""
      ],
      "metadata": {
        "id": "Zlskblyuyo-p"
      },
      "execution_count": null,
      "outputs": []
    },
    {
      "cell_type": "code",
      "source": [
        ""
      ],
      "metadata": {
        "id": "qGoC4Wr-yo8V"
      },
      "execution_count": null,
      "outputs": []
    },
    {
      "cell_type": "code",
      "source": [
        ""
      ],
      "metadata": {
        "id": "E1NdBe-qyo5s"
      },
      "execution_count": null,
      "outputs": []
    },
    {
      "cell_type": "code",
      "source": [
        ""
      ],
      "metadata": {
        "id": "66FdDctkyo26"
      },
      "execution_count": null,
      "outputs": []
    },
    {
      "cell_type": "code",
      "source": [
        ""
      ],
      "metadata": {
        "id": "oaxif9wZyoz9"
      },
      "execution_count": null,
      "outputs": []
    },
    {
      "cell_type": "code",
      "source": [
        ""
      ],
      "metadata": {
        "id": "Q-0DiFQdyosD"
      },
      "execution_count": null,
      "outputs": []
    },
    {
      "cell_type": "code",
      "source": [
        "!python attacks_emotions/agv/agv_attack.py -l TEST.txt -o TEST.json -bs 1 -e 10 -pp  \"offsprings\" -ps \"direct\" -po \"ES\"  -np 10 -el true -s pareto -df1 ssim -db \"IMAGENET-MOBILENET\"  -nf 3 -r true -lf TEST.out"
      ],
      "metadata": {
        "id": "Vd1U4vk679kz"
      },
      "execution_count": null,
      "outputs": []
    },
    {
      "cell_type": "code",
      "source": [
        "!python attacks_emotions/agv/agv_attack.py -l TEST.txt -o TEST.json -bs 1 -e 1 -pp  \"offsprings\" -ps \"direct\" -po \"ES\"  -np 1 -el true -s pareto -df1 ssim -db \"IMAGENET-MOBILENET\"  -nf 3 -r true -lf TEST.out -sae 1"
      ],
      "metadata": {
        "id": "ps6B83IoIJ5p"
      },
      "execution_count": null,
      "outputs": []
    },
    {
      "cell_type": "code",
      "source": [
        "!python attacks_emotions/agv/agv_attack.py -bf TEST/best_jsons -db \"IMAGENET-MOBILENET\" -sae_best=True -img_id 10"
      ],
      "metadata": {
        "id": "OuZaRGTee0q8"
      },
      "execution_count": null,
      "outputs": []
    }
  ]
}