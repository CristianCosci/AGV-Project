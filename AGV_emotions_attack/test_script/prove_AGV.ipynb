{
  "nbformat": 4,
  "nbformat_minor": 0,
  "metadata": {
    "colab": {
      "name": "prove_AGV.ipynb",
      "provenance": [],
      "collapsed_sections": [],
      "authorship_tag": "ABX9TyPIagye5iod5Nbr2/IVMMdk",
      "include_colab_link": true
    },
    "kernelspec": {
      "name": "python3",
      "display_name": "Python 3"
    },
    "language_info": {
      "name": "python"
    }
  },
  "cells": [
    {
      "cell_type": "markdown",
      "metadata": {
        "id": "view-in-github",
        "colab_type": "text"
      },
      "source": [
        "<a href=\"https://colab.research.google.com/github/CristianCosci/AGV-Project/blob/refactoring_mobilenet/AGV_emotions_attack/test_script/prove_AGV.ipynb\" target=\"_parent\"><img src=\"https://colab.research.google.com/assets/colab-badge.svg\" alt=\"Open In Colab\"/></a>"
      ]
    },
    {
      "cell_type": "code",
      "execution_count": null,
      "metadata": {
        "id": "rvmZCV1-zf4_"
      },
      "outputs": [],
      "source": [
        "!git clone -b refactoring_mobilenet https://github.com/CristianCosci/AGV-Project.git"
      ]
    },
    {
      "cell_type": "code",
      "source": [
        "!pip install noise"
      ],
      "metadata": {
        "id": "TK_N6C3H9cdB"
      },
      "execution_count": null,
      "outputs": []
    },
    {
      "cell_type": "code",
      "source": [
        "import os\n",
        "os.chdir('/content/AGV-Project/AGV_emotions_attack')"
      ],
      "metadata": {
        "id": "dEQcDHLZLNV4"
      },
      "execution_count": null,
      "outputs": []
    },
    {
      "cell_type": "code",
      "source": [
        "!python AGV-Project/AGV_emotions_attack/attacks_emotions/agv/agv_attack.py -l TEST.txt -o TEST.json -bs 1 -e 10 -pp  \"offsprings\" -ps \"direct\" -po \"ES\"  -np 10 -el true -s pareto -df1 ssim -db \"IMAGENET-MOBILENET\"  -nf 3 -r true -lf TEST.out"
      ],
      "metadata": {
        "id": "Vd1U4vk679kz"
      },
      "execution_count": null,
      "outputs": []
    },
    {
      "cell_type": "code",
      "source": [
        "!python attacks_emotions/agv/agv_attack.py -l TEST.txt -o TEST.json -bs 1 -e 1 -pp  \"offsprings\" -ps \"direct\" -po \"ES\"  -np 1 -el true -s pareto -df1 ssim -db \"IMAGENET-MOBILENET\"  -nf 3 -r true -lf TEST.out -sae 1"
      ],
      "metadata": {
        "id": "ps6B83IoIJ5p"
      },
      "execution_count": null,
      "outputs": []
    }
  ]
}